{
 "cells": [
  {
   "cell_type": "code",
   "execution_count": 1,
   "metadata": {},
   "outputs": [
    {
     "name": "stderr",
     "output_type": "stream",
     "text": [
      "Using TensorFlow backend.\n"
     ]
    }
   ],
   "source": [
    "import numpy as np, pandas as pd, seaborn as sns, os\n",
    "from keras.layers import Dense, Dropout, LSTM\n",
    "from keras.models import Sequential\n",
    "import nltk"
   ]
  },
  {
   "cell_type": "code",
   "execution_count": 2,
   "metadata": {},
   "outputs": [],
   "source": [
    "os.chdir('/Users/mehdi/Downloads/TextClassification/data')\n",
    "data = pd.read_csv('bbc-text.csv')"
   ]
  },
  {
   "cell_type": "code",
   "execution_count": 3,
   "metadata": {},
   "outputs": [
    {
     "data": {
      "text/plain": [
       "(2225, 2)"
      ]
     },
     "execution_count": 3,
     "metadata": {},
     "output_type": "execute_result"
    }
   ],
   "source": [
    "data.shape"
   ]
  },
  {
   "cell_type": "code",
   "execution_count": 4,
   "metadata": {},
   "outputs": [
    {
     "data": {
      "text/plain": [
       "category    0\n",
       "text        0\n",
       "dtype: int64"
      ]
     },
     "execution_count": 4,
     "metadata": {},
     "output_type": "execute_result"
    }
   ],
   "source": [
    "data.isna().sum()"
   ]
  },
  {
   "cell_type": "code",
   "execution_count": 5,
   "metadata": {},
   "outputs": [
    {
     "data": {
      "text/plain": [
       "sport            511\n",
       "business         510\n",
       "politics         417\n",
       "tech             401\n",
       "entertainment    386\n",
       "Name: category, dtype: int64"
      ]
     },
     "execution_count": 5,
     "metadata": {},
     "output_type": "execute_result"
    }
   ],
   "source": [
    "data.category.value_counts() # Looks like a balanced dataset"
   ]
  },
  {
   "cell_type": "code",
   "execution_count": 6,
   "metadata": {},
   "outputs": [],
   "source": [
    "texts = data['text'].tolist()"
   ]
  },
  {
   "cell_type": "code",
   "execution_count": 7,
   "metadata": {},
   "outputs": [],
   "source": [
    "from keras.preprocessing.text import text_to_word_sequence"
   ]
  },
  {
   "cell_type": "code",
   "execution_count": 8,
   "metadata": {},
   "outputs": [],
   "source": [
    "texts = [text_to_word_sequence(text,  filters='!\"#%&()*+,-./:;<=>?@[\\\\]^_`{|}~\\t\\n0123456789') for text in texts]"
   ]
  },
  {
   "cell_type": "code",
   "execution_count": 9,
   "metadata": {},
   "outputs": [],
   "source": [
    "stopwords = nltk.corpus.stopwords.words('english')\n",
    "texts = [[word for word in text if word not in stopwords] for text in texts]"
   ]
  },
  {
   "cell_type": "code",
   "execution_count": 10,
   "metadata": {},
   "outputs": [],
   "source": [
    "from nltk.stem import WordNetLemmatizer, PorterStemmer\n",
    "texts = [[WordNetLemmatizer().lemmatize(word) for word in tokenized_text] for tokenized_text in texts]\n",
    "texts = [[PorterStemmer().stem(word) for word in tokenized_text] for tokenized_text in texts]"
   ]
  },
  {
   "cell_type": "code",
   "execution_count": 11,
   "metadata": {},
   "outputs": [],
   "source": [
    "from sklearn.feature_extraction.text import CountVectorizer"
   ]
  },
  {
   "cell_type": "code",
   "execution_count": 12,
   "metadata": {},
   "outputs": [],
   "source": [
    "data['PreProcessedText'] = texts"
   ]
  },
  {
   "cell_type": "code",
   "execution_count": 13,
   "metadata": {},
   "outputs": [],
   "source": [
    "vectorizer = CountVectorizer()\n",
    "vectorized_sents = vectorizer.fit_transform(data['PreProcessedText'].apply(lambda x: ' '.join(x))).toarray()"
   ]
  },
  {
   "cell_type": "code",
   "execution_count": 14,
   "metadata": {},
   "outputs": [],
   "source": [
    "vectorized_sents = pd.DataFrame(vectorized_sents)\n",
    "vectorized_sents['category'] = data['category']"
   ]
  },
  {
   "cell_type": "code",
   "execution_count": 15,
   "metadata": {},
   "outputs": [],
   "source": [
    "zeros = np.zeros((vectorized_sents.shape[0], 59))\n",
    "vectorized_sents = pd.concat([vectorized_sents, pd.DataFrame(zeros)], axis=1)"
   ]
  },
  {
   "cell_type": "code",
   "execution_count": 16,
   "metadata": {},
   "outputs": [],
   "source": [
    "from sklearn.preprocessing import OneHotEncoder\n",
    "ohot_enc = OneHotEncoder()\n",
    "X = vectorized_sents.drop('category', axis=1).values\n",
    "y = ohot_enc.fit_transform(np.c_[vectorized_sents['category']])"
   ]
  },
  {
   "cell_type": "code",
   "execution_count": 17,
   "metadata": {},
   "outputs": [],
   "source": [
    "from sklearn.model_selection import train_test_split\n",
    "X_train, X_test, y_train, y_test = train_test_split(X, y, test_size=.1, random_state=999)"
   ]
  },
  {
   "cell_type": "code",
   "execution_count": 18,
   "metadata": {},
   "outputs": [
    {
     "data": {
      "text/plain": [
       "(2225, 19000)"
      ]
     },
     "execution_count": 18,
     "metadata": {},
     "output_type": "execute_result"
    }
   ],
   "source": [
    "X.shape"
   ]
  },
  {
   "cell_type": "code",
   "execution_count": 19,
   "metadata": {},
   "outputs": [],
   "source": [
    "X_train = X_train.reshape(X_train.shape[0], 10, 1900)\n",
    "X_test = X_test.reshape(X_test.shape[0], 10, 1900)\n",
    "X = X.reshape(X.shape[0], 10, 1900)\n"
   ]
  },
  {
   "cell_type": "code",
   "execution_count": 20,
   "metadata": {},
   "outputs": [
    {
     "name": "stdout",
     "output_type": "stream",
     "text": [
      "WARNING:tensorflow:From C:\\Users\\mehdi\\Anaconda3\\lib\\site-packages\\tensorflow\\python\\ops\\resource_variable_ops.py:435: colocate_with (from tensorflow.python.framework.ops) is deprecated and will be removed in a future version.\n",
      "Instructions for updating:\n",
      "Colocations handled automatically by placer.\n"
     ]
    }
   ],
   "source": [
    "model = Sequential([LSTM(80, activation='relu', return_sequences=True, input_shape=(10, 1900)),\n",
    "                    LSTM(70, activation='relu'),\n",
    "                    Dense(200, activation='relu'), \n",
    "                    Dense(300, activation='relu'),\n",
    "                    Dropout(.4), \n",
    "                    Dense(5, activation=\"softmax\")\n",
    "                    ])\n",
    "model.compile(loss='categorical_crossentropy', optimizer='adam', metrics=['accuracy'])"
   ]
  },
  {
   "cell_type": "code",
   "execution_count": 21,
   "metadata": {
    "scrolled": true
   },
   "outputs": [
    {
     "name": "stdout",
     "output_type": "stream",
     "text": [
      "WARNING:tensorflow:From C:\\Users\\mehdi\\Anaconda3\\lib\\site-packages\\tensorflow\\python\\ops\\math_ops.py:3066: to_int32 (from tensorflow.python.ops.math_ops) is deprecated and will be removed in a future version.\n",
      "Instructions for updating:\n",
      "Use tf.cast instead.\n",
      "Train on 2002 samples, validate on 223 samples\n",
      "Epoch 1/20\n",
      "2002/2002 [==============================] - 7s 3ms/step - loss: 1.0782 - accuracy: 0.6144 - val_loss: 0.4797 - val_accuracy: 0.9238\n",
      "Epoch 2/20\n",
      "2002/2002 [==============================] - 5s 3ms/step - loss: 0.2054 - accuracy: 0.9565 - val_loss: 0.2492 - val_accuracy: 0.9462\n",
      "Epoch 3/20\n",
      "2002/2002 [==============================] - 5s 3ms/step - loss: 0.0799 - accuracy: 0.9840 - val_loss: 0.2484 - val_accuracy: 0.9283\n",
      "Epoch 4/20\n",
      "2002/2002 [==============================] - 5s 3ms/step - loss: 0.0268 - accuracy: 0.9970 - val_loss: 0.2662 - val_accuracy: 0.9462\n",
      "Epoch 5/20\n",
      "2002/2002 [==============================] - 5s 3ms/step - loss: 0.0192 - accuracy: 0.9960 - val_loss: 0.3654 - val_accuracy: 0.9283\n",
      "Epoch 6/20\n",
      "2002/2002 [==============================] - 5s 3ms/step - loss: 0.0777 - accuracy: 0.9910 - val_loss: 0.4875 - val_accuracy: 0.9058\n",
      "Epoch 7/20\n",
      "2002/2002 [==============================] - 5s 3ms/step - loss: 0.0146 - accuracy: 0.9975 - val_loss: 0.1613 - val_accuracy: 0.9462\n",
      "Epoch 8/20\n",
      "2002/2002 [==============================] - 5s 2ms/step - loss: 0.0321 - accuracy: 0.9960 - val_loss: 0.2624 - val_accuracy: 0.9596\n",
      "Epoch 9/20\n",
      "2002/2002 [==============================] - 5s 3ms/step - loss: 0.0185 - accuracy: 0.9985 - val_loss: 0.2253 - val_accuracy: 0.9731\n",
      "Epoch 10/20\n",
      "2002/2002 [==============================] - 5s 3ms/step - loss: 0.0178 - accuracy: 0.9965 - val_loss: 0.3623 - val_accuracy: 0.9372\n",
      "Epoch 11/20\n",
      "2002/2002 [==============================] - 5s 3ms/step - loss: 0.0029 - accuracy: 0.9990 - val_loss: 0.2900 - val_accuracy: 0.9686\n",
      "Epoch 12/20\n",
      "2002/2002 [==============================] - 5s 2ms/step - loss: 2.8838e-04 - accuracy: 1.0000 - val_loss: 0.2881 - val_accuracy: 0.9686\n",
      "Epoch 13/20\n",
      "2002/2002 [==============================] - 5s 2ms/step - loss: 1.7467e-04 - accuracy: 1.0000 - val_loss: 0.2912 - val_accuracy: 0.9686\n",
      "Epoch 14/20\n",
      "2002/2002 [==============================] - 5s 3ms/step - loss: 1.4512e-04 - accuracy: 1.0000 - val_loss: 0.2924 - val_accuracy: 0.9686\n",
      "Epoch 15/20\n",
      "2002/2002 [==============================] - 5s 3ms/step - loss: 1.1861e-04 - accuracy: 1.0000 - val_loss: 0.2944 - val_accuracy: 0.9686\n",
      "Epoch 16/20\n",
      "2002/2002 [==============================] - 5s 3ms/step - loss: 7.5809e-05 - accuracy: 1.0000 - val_loss: 0.2945 - val_accuracy: 0.9686\n",
      "Epoch 17/20\n",
      "2002/2002 [==============================] - 5s 3ms/step - loss: 6.5740e-05 - accuracy: 1.0000 - val_loss: 0.2931 - val_accuracy: 0.9686\n",
      "Epoch 18/20\n",
      "2002/2002 [==============================] - 5s 3ms/step - loss: 5.6012e-05 - accuracy: 1.0000 - val_loss: 0.2939 - val_accuracy: 0.9686\n",
      "Epoch 19/20\n",
      "2002/2002 [==============================] - 5s 3ms/step - loss: 4.4054e-05 - accuracy: 1.0000 - val_loss: 0.2960 - val_accuracy: 0.9686\n",
      "Epoch 20/20\n",
      "2002/2002 [==============================] - 5s 3ms/step - loss: 3.6813e-05 - accuracy: 1.0000 - val_loss: 0.2985 - val_accuracy: 0.9686\n"
     ]
    }
   ],
   "source": [
    "history = model.fit(X_train, y_train, epochs=20, validation_data=(X_test, y_test))"
   ]
  },
  {
   "cell_type": "code",
   "execution_count": 22,
   "metadata": {},
   "outputs": [
    {
     "data": {
      "text/plain": [
       "<matplotlib.axes._subplots.AxesSubplot at 0x2219d3f5a48>"
      ]
     },
     "execution_count": 22,
     "metadata": {},
     "output_type": "execute_result"
    },
    {
     "data": {
      "image/png": "[encoded data removed]",
      "text/plain": [
       "<Figure size 432x288 with 1 Axes>"
      ]
     },
     "metadata": {
      "needs_background": "light"
     },
     "output_type": "display_data"
    }
   ],
   "source": [
    "val_loss, val_accuracy, loss, accuracy = history.history.values()\n",
    "sns.lineplot(x=[i for i in range(1, 21)], y= val_accuracy)#model's accuracy on the validation set per epoch"
   ]
  },
  {
   "cell_type": "code",
   "execution_count": 23,
   "metadata": {},
   "outputs": [],
   "source": [
    "#Save the model and the transformers\n",
    "from joblib import dump\n",
    "os.chdir('/Users/mehdi/Downloads/TextClassification/test_on_new_article/model_and_transformers/')\n",
    "dump(ohot_enc, 'OneHotEncoder.SKLEARN')\n",
    "dump(vectorizer, 'CountVectorizer.SKLEARN')\n",
    "model.save('model.KERAS')"
   ]
  },
  {
   "cell_type": "code",
   "execution_count": 24,
   "metadata": {},
   "outputs": [],
   "source": [
    "#This is the function used to predict article's category on a new sample\n",
    "def predict(article_name='insert_the_article_text_here.txt'):\n",
    "    from joblib import load\n",
    "    os.chdir('/Users/mehdi/Downloads/TextClassification/test_on_new_article/model_and_transformers/')\n",
    "    ohot_enc, vectorizer = load('OneHotEncoder.SKLEARN'), load('CountVectorizer.SKLEARN')\n",
    "    #model = load('model.KERAS')\n",
    "    os.chdir('/Users/mehdi/Downloads/TextClassification/test_on_new_article/')\n",
    "    try:\n",
    "        sent = open(article_name).read().replace('\\n', ' ')\n",
    "    except:\n",
    "        sent = ' '.join([df.columns[0]]+ df[df.columns[0]].tolist())\n",
    "    sent = text_to_word_sequence(sent,  filters='!\"#%&()*+,-./:;<=>?@[\\\\]^_`{|}~\\t\\n0123456789')\n",
    "    sent = [word for word in sent if word not in stopwords]\n",
    "    sent = [WordNetLemmatizer().lemmatize(word) for word in sent]\n",
    "    sent = [PorterStemmer().stem(word) for word in sent]\n",
    "    sent = vectorizer.transform(sent).toarray()\n",
    "    vec = sent.sum(axis=0)\n",
    "    vec = list(vec) + [0 for i in range(59)]\n",
    "    vec = np.array(vec).reshape(1, 10, 1900)\n",
    "    y_pred = model.predict(np.c_[vec])\n",
    "    category = ohot_enc.inverse_transform(np.array(y_pred))\n",
    "    return \"This article's Category is : \"+str(category[0][0].capitalize())"
   ]
  },
  {
   "cell_type": "code",
   "execution_count": 25,
   "metadata": {},
   "outputs": [
    {
     "data": {
      "text/plain": [
       "\"This article's Category is : Politics\""
      ]
     },
     "execution_count": 25,
     "metadata": {},
     "output_type": "execute_result"
    }
   ],
   "source": [
    "predict()"
   ]
  },
  {
   "cell_type": "code",
   "execution_count": null,
   "metadata": {},
   "outputs": [],
   "source": []
  }
 ],
 "metadata": {
  "kernelspec": {
   "display_name": "Python 3",
   "language": "python",
   "name": "python3"
  },
  "language_info": {
   "codemirror_mode": {
    "name": "ipython",
    "version": 3
   },
   "file_extension": ".py",
   "mimetype": "text/x-python",
   "name": "python",
   "nbconvert_exporter": "python",
   "pygments_lexer": "ipython3",
   "version": "3.7.4"
  }
 },
 "nbformat": 4,
 "nbformat_minor": 2
}
